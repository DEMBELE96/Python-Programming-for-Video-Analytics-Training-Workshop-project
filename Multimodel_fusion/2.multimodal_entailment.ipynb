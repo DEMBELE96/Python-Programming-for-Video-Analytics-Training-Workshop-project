{
  "cells": [
    {
      "cell_type": "markdown",
      "metadata": {
        "id": "NKqQ3Qz2Ovar"
      },
      "source": [
        "# Multimodal entailment\n",
        "\n",
        "**Author:** [Sayak Paul](https://twitter.com/RisingSayak)<br>\n",
        "**Date created:** 2021/08/08<br>\n",
        "**Last modified:** 2021/08/15<br>\n",
        "**Description:** Training a multimodal model for predicting entailment."
      ]
    },
    {
      "cell_type": "markdown",
      "metadata": {
        "id": "tiaCdt0gOva0"
      },
      "source": [
        "## Introduction\n",
        "\n",
        "In this example, we will build and train a model for predicting multimodal entailment. We will be\n",
        "using the\n",
        "[multimodal entailment dataset](https://github.com/google-research-datasets/recognizing-multimodal-entailment)\n",
        "recently introduced by Google Research.\n",
        "\n",
        "### What is multimodal entailment?\n",
        "\n",
        "On social media platforms, to audit and moderate content\n",
        "we may want to find answers to the\n",
        "following questions in near real-time:\n",
        "\n",
        "* Does a given piece of information contradict the other?\n",
        "* Does a given piece of information imply the other?\n",
        "\n",
        "In NLP, this task is called analyzing _textual entailment_. However, that's only\n",
        "when the information comes from text content.\n",
        "In practice, it's often the case the information available comes not just\n",
        "from text content, but from a multimodal combination of text, images, audio, video, etc.\n",
        "_Multimodal entailment_ is simply the extension of textual entailment to a variety\n",
        "of new input modalities.\n",
        "\n",
        "### Requirements\n",
        "\n",
        "This example requires TensorFlow 2.5 or higher. In addition, TensorFlow Hub and\n",
        "TensorFlow Text are required for the BERT model\n",
        "([Devlin et al.](https://arxiv.org/abs/1810.04805)). These libraries can be installed\n",
        "using the following command:"
      ]
    },
    {
      "cell_type": "code",
      "execution_count": 1,
      "metadata": {
        "id": "CcY7K9TcOva2",
        "outputId": "7c033619-05f7-4c29-acdc-d39440be230b",
        "colab": {
          "base_uri": "https://localhost:8080/"
        }
      },
      "outputs": [
        {
          "output_type": "stream",
          "name": "stdout",
          "text": [
            "\u001b[2K     \u001b[90m━━━━━━━━━━━━━━━━━━━━━━━━━━━━━━━━━━━━━━━━\u001b[0m \u001b[32m5.8/5.8 MB\u001b[0m \u001b[31m45.0 MB/s\u001b[0m eta \u001b[36m0:00:00\u001b[0m\n",
            "\u001b[2K     \u001b[90m━━━━━━━━━━━━━━━━━━━━━━━━━━━━━━━━━━━━━━━\u001b[0m \u001b[32m588.3/588.3 MB\u001b[0m \u001b[31m2.7 MB/s\u001b[0m eta \u001b[36m0:00:00\u001b[0m\n",
            "\u001b[2K     \u001b[90m━━━━━━━━━━━━━━━━━━━━━━━━━━━━━━━━━━━━━━━━\u001b[0m \u001b[32m6.0/6.0 MB\u001b[0m \u001b[31m26.6 MB/s\u001b[0m eta \u001b[36m0:00:00\u001b[0m\n",
            "\u001b[2K     \u001b[90m━━━━━━━━━━━━━━━━━━━━━━━━━━━━━━━━━━━━━━━━\u001b[0m \u001b[32m1.7/1.7 MB\u001b[0m \u001b[31m35.9 MB/s\u001b[0m eta \u001b[36m0:00:00\u001b[0m\n",
            "\u001b[2K     \u001b[90m━━━━━━━━━━━━━━━━━━━━━━━━━━━━━━━━━━━━━━\u001b[0m \u001b[32m439.2/439.2 KB\u001b[0m \u001b[31m10.8 MB/s\u001b[0m eta \u001b[36m0:00:00\u001b[0m\n",
            "\u001b[?25h"
          ]
        }
      ],
      "source": [
        "!pip install -q tensorflow_text"
      ]
    },
    {
      "cell_type": "markdown",
      "metadata": {
        "id": "lJ5OtUayOva4"
      },
      "source": [
        "## Imports"
      ]
    },
    {
      "cell_type": "code",
      "execution_count": 2,
      "metadata": {
        "id": "JNBH4sHkOva5"
      },
      "outputs": [],
      "source": [
        "from sklearn.model_selection import train_test_split\n",
        "import matplotlib.pyplot as plt\n",
        "import pandas as pd\n",
        "import numpy as np\n",
        "import os\n",
        "\n",
        "import tensorflow as tf\n",
        "import tensorflow_hub as hub\n",
        "import tensorflow_text as text\n",
        "from tensorflow import keras"
      ]
    },
    {
      "cell_type": "markdown",
      "metadata": {
        "id": "fwxg_cZMOva6"
      },
      "source": [
        "## Define a label map"
      ]
    },
    {
      "cell_type": "code",
      "execution_count": 3,
      "metadata": {
        "id": "YozdEsN0Ova6"
      },
      "outputs": [],
      "source": [
        "label_map = {\"Contradictory\": 0, \"Implies\": 1, \"NoEntailment\": 2}"
      ]
    },
    {
      "cell_type": "markdown",
      "metadata": {
        "id": "DO4h9DpgOva7"
      },
      "source": [
        "## Collect the dataset\n",
        "\n",
        "The original dataset is available\n",
        "[here](https://github.com/google-research-datasets/recognizing-multimodal-entailment).\n",
        "It comes with URLs of images which are hosted on Twitter's photo storage system called\n",
        "the\n",
        "[Photo Blob Storage (PBS for short)](https://blog.twitter.com/engineering/en_us/a/2012/blobstore-twitter-s-in-house-photo-storage-system).\n",
        "We will be working with the downloaded images along with additional data that comes with\n",
        "the original dataset. Thanks to\n",
        "[Nilabhra Roy Chowdhury](https://de.linkedin.com/in/nilabhraroychowdhury) who worked on\n",
        "preparing the image data."
      ]
    },
    {
      "cell_type": "code",
      "execution_count": 4,
      "metadata": {
        "id": "7MOVKDoUOva8",
        "outputId": "68493395-6bb4-488a-d697-d22baafe6f0e",
        "colab": {
          "base_uri": "https://localhost:8080/"
        }
      },
      "outputs": [
        {
          "output_type": "stream",
          "name": "stdout",
          "text": [
            "Downloading data from https://github.com/sayakpaul/Multimodal-Entailment-Baseline/releases/download/v1.0.0/tweet_images.tar.gz\n",
            "344273442/344273442 [==============================] - 25s 0us/step\n"
          ]
        }
      ],
      "source": [
        "image_base_path = keras.utils.get_file(\n",
        "    \"tweet_images\",\n",
        "    \"https://github.com/sayakpaul/Multimodal-Entailment-Baseline/releases/download/v1.0.0/tweet_images.tar.gz\",\n",
        "    untar=True,\n",
        ")"
      ]
    },
    {
      "cell_type": "markdown",
      "metadata": {
        "id": "7zbfZGIsOva9"
      },
      "source": [
        "## Read the dataset and apply basic preprocessing"
      ]
    },
    {
      "cell_type": "code",
      "execution_count": 5,
      "metadata": {
        "id": "sv7-o7Y3Ova9",
        "outputId": "6ec3c4ea-5027-4cfc-fef6-0123463a5dd7",
        "colab": {
          "base_uri": "https://localhost:8080/",
          "height": 772
        }
      },
      "outputs": [
        {
          "output_type": "execute_result",
          "data": {
            "text/plain": [
              "                     id_1                                             text_1  \\\n",
              "357   1364055333308628992  Aircraft #N22PP operated by U.S. Park Police i...   \n",
              "481   1346725766042685441  Callsign: #RCH255\\nBoeing C-17A Globemaster II...   \n",
              "1204  1332556785404743680  It’s not too late to buy \"Murder of a Martian\"...   \n",
              "785   1369445848996851714  [News Update]\\n\\nBrunei reports 1 new imported...   \n",
              "1110  1344801784724860928  M1.6 #earthquake (#potres) strikes 17 km S of ...   \n",
              "739   1382075152704372738  A new JFF superfan is enjoying my 176 videos, ...   \n",
              "551   1356230635514261507  Heartfelt congratulations🎉 to whole universe o...   \n",
              "369   1374792952199921666  👊 MATCH DAY!\\n🏆 #FVPA\\n🆚 #Stay O Party eSports...   \n",
              "698   1336955562676936705  Environmental risks have become unneglectable ...   \n",
              "1272  1368808197885100034  Now we just wait for journey of Elaine season ...   \n",
              "\n",
              "                                             image_1                 id_2  \\\n",
              "357   http://pbs.twimg.com/media/Eu4ZGHiXYAEDS7A.jpg  1377220271241883648   \n",
              "481   http://pbs.twimg.com/media/ErCH8g1XAAIT8WT.png  1366130550713552896   \n",
              "1204  http://pbs.twimg.com/media/En4w2G-XEAIca2p.jpg  1333285114940416001   \n",
              "785   http://pbs.twimg.com/media/EwCZhXzVEAAOKIZ.jpg  1380058959264894978   \n",
              "1110  http://pbs.twimg.com/media/EqmyGLaW8AAa5nB.png  1353540872693018624   \n",
              "739   http://pbs.twimg.com/media/Ey4eBwzWgAMpLH-.jpg  1382352458253541376   \n",
              "551   http://pbs.twimg.com/media/EtHWBHAXAAYmjLf.jpg  1356261591482834947   \n",
              "369   http://pbs.twimg.com/media/ExQ9CHgW8AARDX7.jpg  1381613876974850053   \n",
              "698   http://pbs.twimg.com/media/Eo0fX9jXUAQZDPN.jpg  1338407630725758977   \n",
              "1272  http://pbs.twimg.com/media/Ev77qRCUcAAlEYe.jpg  1368921194053865473   \n",
              "\n",
              "                                                 text_2  \\\n",
              "357   Aircraft #N33PP operated by U.S. Park Police i...   \n",
              "481   Callsign: #RCH616\\nBoeing C-17A Globemaster II...   \n",
              "1204  Last chance to get \"Murder of a Martian\" at a ...   \n",
              "785   [News Update]\\n\\nBrunei reports 1 new imported...   \n",
              "1110  M2.8 #earthquake (#potres) strikes 24 km S of ...   \n",
              "739   A new JFF superfan is enjoying my 86 videos, 1...   \n",
              "551   Heartfelt congratulations🎉 to whole universe o...   \n",
              "369   👊 MATCH DAY!\\n🏆 #VPL\\n🆚 #Stay O' Party eSports...   \n",
              "698   Environmental risks have become unneglectable ...   \n",
              "1272  Wandering Witch: The Journey of Elaina Season ...   \n",
              "\n",
              "                                             image_2         label  \n",
              "357   http://pbs.twimg.com/media/ExzeiXkXEAUxe90.jpg  NoEntailment  \n",
              "481   http://pbs.twimg.com/media/EvV4fpPXMAYUCKs.png  NoEntailment  \n",
              "1204  http://pbs.twimg.com/media/EoDHWbsWEAAPhKJ.jpg  NoEntailment  \n",
              "785   http://pbs.twimg.com/media/Eyb0TnmVgAMXMKd.jpg  NoEntailment  \n",
              "1110  http://pbs.twimg.com/media/Esi-QCkWMAEl6jP.png  NoEntailment  \n",
              "739   http://pbs.twimg.com/media/Ey8aPFvWEAcRQWf.jpg  NoEntailment  \n",
              "551   http://pbs.twimg.com/media/EtJck1JXMAIo5Jj.jpg  NoEntailment  \n",
              "369   http://pbs.twimg.com/media/Eyx6f2DXAAIc6RE.jpg  NoEntailment  \n",
              "698   http://pbs.twimg.com/media/Eo0foF9XUAArKUb.jpg  NoEntailment  \n",
              "1272  http://pbs.twimg.com/media/Ev9KnFIVEAckCAu.jpg  NoEntailment  "
            ],
            "text/html": [
              "\n",
              "  <div id=\"df-ba9550f5-40e1-4f2b-a583-ac01e520c816\">\n",
              "    <div class=\"colab-df-container\">\n",
              "      <div>\n",
              "<style scoped>\n",
              "    .dataframe tbody tr th:only-of-type {\n",
              "        vertical-align: middle;\n",
              "    }\n",
              "\n",
              "    .dataframe tbody tr th {\n",
              "        vertical-align: top;\n",
              "    }\n",
              "\n",
              "    .dataframe thead th {\n",
              "        text-align: right;\n",
              "    }\n",
              "</style>\n",
              "<table border=\"1\" class=\"dataframe\">\n",
              "  <thead>\n",
              "    <tr style=\"text-align: right;\">\n",
              "      <th></th>\n",
              "      <th>id_1</th>\n",
              "      <th>text_1</th>\n",
              "      <th>image_1</th>\n",
              "      <th>id_2</th>\n",
              "      <th>text_2</th>\n",
              "      <th>image_2</th>\n",
              "      <th>label</th>\n",
              "    </tr>\n",
              "  </thead>\n",
              "  <tbody>\n",
              "    <tr>\n",
              "      <th>357</th>\n",
              "      <td>1364055333308628992</td>\n",
              "      <td>Aircraft #N22PP operated by U.S. Park Police i...</td>\n",
              "      <td>http://pbs.twimg.com/media/Eu4ZGHiXYAEDS7A.jpg</td>\n",
              "      <td>1377220271241883648</td>\n",
              "      <td>Aircraft #N33PP operated by U.S. Park Police i...</td>\n",
              "      <td>http://pbs.twimg.com/media/ExzeiXkXEAUxe90.jpg</td>\n",
              "      <td>NoEntailment</td>\n",
              "    </tr>\n",
              "    <tr>\n",
              "      <th>481</th>\n",
              "      <td>1346725766042685441</td>\n",
              "      <td>Callsign: #RCH255\\nBoeing C-17A Globemaster II...</td>\n",
              "      <td>http://pbs.twimg.com/media/ErCH8g1XAAIT8WT.png</td>\n",
              "      <td>1366130550713552896</td>\n",
              "      <td>Callsign: #RCH616\\nBoeing C-17A Globemaster II...</td>\n",
              "      <td>http://pbs.twimg.com/media/EvV4fpPXMAYUCKs.png</td>\n",
              "      <td>NoEntailment</td>\n",
              "    </tr>\n",
              "    <tr>\n",
              "      <th>1204</th>\n",
              "      <td>1332556785404743680</td>\n",
              "      <td>It’s not too late to buy \"Murder of a Martian\"...</td>\n",
              "      <td>http://pbs.twimg.com/media/En4w2G-XEAIca2p.jpg</td>\n",
              "      <td>1333285114940416001</td>\n",
              "      <td>Last chance to get \"Murder of a Martian\" at a ...</td>\n",
              "      <td>http://pbs.twimg.com/media/EoDHWbsWEAAPhKJ.jpg</td>\n",
              "      <td>NoEntailment</td>\n",
              "    </tr>\n",
              "    <tr>\n",
              "      <th>785</th>\n",
              "      <td>1369445848996851714</td>\n",
              "      <td>[News Update]\\n\\nBrunei reports 1 new imported...</td>\n",
              "      <td>http://pbs.twimg.com/media/EwCZhXzVEAAOKIZ.jpg</td>\n",
              "      <td>1380058959264894978</td>\n",
              "      <td>[News Update]\\n\\nBrunei reports 1 new imported...</td>\n",
              "      <td>http://pbs.twimg.com/media/Eyb0TnmVgAMXMKd.jpg</td>\n",
              "      <td>NoEntailment</td>\n",
              "    </tr>\n",
              "    <tr>\n",
              "      <th>1110</th>\n",
              "      <td>1344801784724860928</td>\n",
              "      <td>M1.6 #earthquake (#potres) strikes 17 km S of ...</td>\n",
              "      <td>http://pbs.twimg.com/media/EqmyGLaW8AAa5nB.png</td>\n",
              "      <td>1353540872693018624</td>\n",
              "      <td>M2.8 #earthquake (#potres) strikes 24 km S of ...</td>\n",
              "      <td>http://pbs.twimg.com/media/Esi-QCkWMAEl6jP.png</td>\n",
              "      <td>NoEntailment</td>\n",
              "    </tr>\n",
              "    <tr>\n",
              "      <th>739</th>\n",
              "      <td>1382075152704372738</td>\n",
              "      <td>A new JFF superfan is enjoying my 176 videos, ...</td>\n",
              "      <td>http://pbs.twimg.com/media/Ey4eBwzWgAMpLH-.jpg</td>\n",
              "      <td>1382352458253541376</td>\n",
              "      <td>A new JFF superfan is enjoying my 86 videos, 1...</td>\n",
              "      <td>http://pbs.twimg.com/media/Ey8aPFvWEAcRQWf.jpg</td>\n",
              "      <td>NoEntailment</td>\n",
              "    </tr>\n",
              "    <tr>\n",
              "      <th>551</th>\n",
              "      <td>1356230635514261507</td>\n",
              "      <td>Heartfelt congratulations🎉 to whole universe o...</td>\n",
              "      <td>http://pbs.twimg.com/media/EtHWBHAXAAYmjLf.jpg</td>\n",
              "      <td>1356261591482834947</td>\n",
              "      <td>Heartfelt congratulations🎉 to whole universe o...</td>\n",
              "      <td>http://pbs.twimg.com/media/EtJck1JXMAIo5Jj.jpg</td>\n",
              "      <td>NoEntailment</td>\n",
              "    </tr>\n",
              "    <tr>\n",
              "      <th>369</th>\n",
              "      <td>1374792952199921666</td>\n",
              "      <td>👊 MATCH DAY!\\n🏆 #FVPA\\n🆚 #Stay O Party eSports...</td>\n",
              "      <td>http://pbs.twimg.com/media/ExQ9CHgW8AARDX7.jpg</td>\n",
              "      <td>1381613876974850053</td>\n",
              "      <td>👊 MATCH DAY!\\n🏆 #VPL\\n🆚 #Stay O' Party eSports...</td>\n",
              "      <td>http://pbs.twimg.com/media/Eyx6f2DXAAIc6RE.jpg</td>\n",
              "      <td>NoEntailment</td>\n",
              "    </tr>\n",
              "    <tr>\n",
              "      <th>698</th>\n",
              "      <td>1336955562676936705</td>\n",
              "      <td>Environmental risks have become unneglectable ...</td>\n",
              "      <td>http://pbs.twimg.com/media/Eo0fX9jXUAQZDPN.jpg</td>\n",
              "      <td>1338407630725758977</td>\n",
              "      <td>Environmental risks have become unneglectable ...</td>\n",
              "      <td>http://pbs.twimg.com/media/Eo0foF9XUAArKUb.jpg</td>\n",
              "      <td>NoEntailment</td>\n",
              "    </tr>\n",
              "    <tr>\n",
              "      <th>1272</th>\n",
              "      <td>1368808197885100034</td>\n",
              "      <td>Now we just wait for journey of Elaine season ...</td>\n",
              "      <td>http://pbs.twimg.com/media/Ev77qRCUcAAlEYe.jpg</td>\n",
              "      <td>1368921194053865473</td>\n",
              "      <td>Wandering Witch: The Journey of Elaina Season ...</td>\n",
              "      <td>http://pbs.twimg.com/media/Ev9KnFIVEAckCAu.jpg</td>\n",
              "      <td>NoEntailment</td>\n",
              "    </tr>\n",
              "  </tbody>\n",
              "</table>\n",
              "</div>\n",
              "      <button class=\"colab-df-convert\" onclick=\"convertToInteractive('df-ba9550f5-40e1-4f2b-a583-ac01e520c816')\"\n",
              "              title=\"Convert this dataframe to an interactive table.\"\n",
              "              style=\"display:none;\">\n",
              "        \n",
              "  <svg xmlns=\"http://www.w3.org/2000/svg\" height=\"24px\"viewBox=\"0 0 24 24\"\n",
              "       width=\"24px\">\n",
              "    <path d=\"M0 0h24v24H0V0z\" fill=\"none\"/>\n",
              "    <path d=\"M18.56 5.44l.94 2.06.94-2.06 2.06-.94-2.06-.94-.94-2.06-.94 2.06-2.06.94zm-11 1L8.5 8.5l.94-2.06 2.06-.94-2.06-.94L8.5 2.5l-.94 2.06-2.06.94zm10 10l.94 2.06.94-2.06 2.06-.94-2.06-.94-.94-2.06-.94 2.06-2.06.94z\"/><path d=\"M17.41 7.96l-1.37-1.37c-.4-.4-.92-.59-1.43-.59-.52 0-1.04.2-1.43.59L10.3 9.45l-7.72 7.72c-.78.78-.78 2.05 0 2.83L4 21.41c.39.39.9.59 1.41.59.51 0 1.02-.2 1.41-.59l7.78-7.78 2.81-2.81c.8-.78.8-2.07 0-2.86zM5.41 20L4 18.59l7.72-7.72 1.47 1.35L5.41 20z\"/>\n",
              "  </svg>\n",
              "      </button>\n",
              "      \n",
              "  <style>\n",
              "    .colab-df-container {\n",
              "      display:flex;\n",
              "      flex-wrap:wrap;\n",
              "      gap: 12px;\n",
              "    }\n",
              "\n",
              "    .colab-df-convert {\n",
              "      background-color: #E8F0FE;\n",
              "      border: none;\n",
              "      border-radius: 50%;\n",
              "      cursor: pointer;\n",
              "      display: none;\n",
              "      fill: #1967D2;\n",
              "      height: 32px;\n",
              "      padding: 0 0 0 0;\n",
              "      width: 32px;\n",
              "    }\n",
              "\n",
              "    .colab-df-convert:hover {\n",
              "      background-color: #E2EBFA;\n",
              "      box-shadow: 0px 1px 2px rgba(60, 64, 67, 0.3), 0px 1px 3px 1px rgba(60, 64, 67, 0.15);\n",
              "      fill: #174EA6;\n",
              "    }\n",
              "\n",
              "    [theme=dark] .colab-df-convert {\n",
              "      background-color: #3B4455;\n",
              "      fill: #D2E3FC;\n",
              "    }\n",
              "\n",
              "    [theme=dark] .colab-df-convert:hover {\n",
              "      background-color: #434B5C;\n",
              "      box-shadow: 0px 1px 3px 1px rgba(0, 0, 0, 0.15);\n",
              "      filter: drop-shadow(0px 1px 2px rgba(0, 0, 0, 0.3));\n",
              "      fill: #FFFFFF;\n",
              "    }\n",
              "  </style>\n",
              "\n",
              "      <script>\n",
              "        const buttonEl =\n",
              "          document.querySelector('#df-ba9550f5-40e1-4f2b-a583-ac01e520c816 button.colab-df-convert');\n",
              "        buttonEl.style.display =\n",
              "          google.colab.kernel.accessAllowed ? 'block' : 'none';\n",
              "\n",
              "        async function convertToInteractive(key) {\n",
              "          const element = document.querySelector('#df-ba9550f5-40e1-4f2b-a583-ac01e520c816');\n",
              "          const dataTable =\n",
              "            await google.colab.kernel.invokeFunction('convertToInteractive',\n",
              "                                                     [key], {});\n",
              "          if (!dataTable) return;\n",
              "\n",
              "          const docLinkHtml = 'Like what you see? Visit the ' +\n",
              "            '<a target=\"_blank\" href=https://colab.research.google.com/notebooks/data_table.ipynb>data table notebook</a>'\n",
              "            + ' to learn more about interactive tables.';\n",
              "          element.innerHTML = '';\n",
              "          dataTable['output_type'] = 'display_data';\n",
              "          await google.colab.output.renderOutput(dataTable, element);\n",
              "          const docLink = document.createElement('div');\n",
              "          docLink.innerHTML = docLinkHtml;\n",
              "          element.appendChild(docLink);\n",
              "        }\n",
              "      </script>\n",
              "    </div>\n",
              "  </div>\n",
              "  "
            ]
          },
          "metadata": {},
          "execution_count": 5
        }
      ],
      "source": [
        "df = pd.read_csv(\n",
        "    \"https://github.com/sayakpaul/Multimodal-Entailment-Baseline/raw/main/csvs/tweets.csv\"\n",
        ")\n",
        "df.sample(10)"
      ]
    },
    {
      "cell_type": "markdown",
      "metadata": {
        "id": "zPKliHX3Ova-"
      },
      "source": [
        "The columns we are interested in are the following:\n",
        "\n",
        "* `text_1`\n",
        "* `image_1`\n",
        "* `text_2`\n",
        "* `image_2`\n",
        "* `label`\n",
        "\n",
        "The entailment task is formulated as the following:\n",
        "\n",
        "***Given the pairs of (`text_1`, `image_1`) and (`text_2`, `image_2`) do they entail (or\n",
        "not entail or contradict) each other?***\n",
        "\n",
        "We have the images already downloaded. `image_1` is downloaded as `id1` as its filename\n",
        "and `image2` is downloaded as `id2` as its filename. In the next step, we will add two\n",
        "more columns to `df` - filepaths of `image_1`s and `image_2`s."
      ]
    },
    {
      "cell_type": "code",
      "execution_count": 6,
      "metadata": {
        "id": "6I3UrQtPOva_"
      },
      "outputs": [],
      "source": [
        "images_one_paths = []\n",
        "images_two_paths = []\n",
        "\n",
        "for idx in range(len(df)):\n",
        "    current_row = df.iloc[idx]\n",
        "    id_1 = current_row[\"id_1\"]\n",
        "    id_2 = current_row[\"id_2\"]\n",
        "    extentsion_one = current_row[\"image_1\"].split(\".\")[-1]\n",
        "    extentsion_two = current_row[\"image_2\"].split(\".\")[-1]\n",
        "\n",
        "    image_one_path = os.path.join(image_base_path, str(id_1) + f\".{extentsion_one}\")\n",
        "    image_two_path = os.path.join(image_base_path, str(id_2) + f\".{extentsion_two}\")\n",
        "\n",
        "    images_one_paths.append(image_one_path)\n",
        "    images_two_paths.append(image_two_path)\n",
        "\n",
        "df[\"image_1_path\"] = images_one_paths\n",
        "df[\"image_2_path\"] = images_two_paths\n",
        "\n",
        "# Create another column containing the integer ids of\n",
        "# the string labels.\n",
        "df[\"label_idx\"] = df[\"label\"].apply(lambda x: label_map[x])"
      ]
    },
    {
      "cell_type": "markdown",
      "metadata": {
        "id": "Z9bYl5DTOva_"
      },
      "source": [
        "## Dataset visualization"
      ]
    },
    {
      "cell_type": "code",
      "execution_count": 7,
      "metadata": {
        "id": "Uryoar_ZOvbA",
        "outputId": "c30f60d7-e66d-4764-9259-16dbaadbf457",
        "colab": {
          "base_uri": "https://localhost:8080/",
          "height": 469
        }
      },
      "outputs": [
        {
          "output_type": "display_data",
          "data": {
            "text/plain": [
              "<Figure size 432x288 with 2 Axes>"
            ],
            "image/png": "[encoded data removed]"
          },
          "metadata": {
            "needs_background": "light"
          }
        },
        {
          "output_type": "stream",
          "name": "stdout",
          "text": [
            "Text one: Crash Bandicoot 4 set to launch on Switch in March\n",
            "\n",
            "https://t.co/Rf41mU8dTH https://t.co/K0WcIXogk0\n",
            "Text two: It's about time: Crash Bandicoot 4 comes to Switch on March 12th https://t.co/Y6foHXpFn8 https://t.co/qW7OWfTo85\n",
            "Label: NoEntailment\n"
          ]
        },
        {
          "output_type": "display_data",
          "data": {
            "text/plain": [
              "<Figure size 432x288 with 2 Axes>"
            ],
            "image/png": "[encoded data removed]"
          },
          "metadata": {
            "needs_background": "light"
          }
        },
        {
          "output_type": "stream",
          "name": "stdout",
          "text": [
            "Text one: From the Archives:  #Paris – Arc De Triomphe De Carrousel https://t.co/rJm0t87kAw #france #holiday https://t.co/RONHRb3atc\n",
            "Text two: From the Archives:  #Paris – Arc De Triomphe https://t.co/i51SurmI9P #arcdetriomphe #france #holiday https://t.co/U4Qoqw1Dh2\n",
            "Label: NoEntailment\n"
          ]
        }
      ],
      "source": [
        "\n",
        "def visualize(idx):\n",
        "    current_row = df.iloc[idx]\n",
        "    image_1 = plt.imread(current_row[\"image_1_path\"])\n",
        "    image_2 = plt.imread(current_row[\"image_2_path\"])\n",
        "    text_1 = current_row[\"text_1\"]\n",
        "    text_2 = current_row[\"text_2\"]\n",
        "    label = current_row[\"label\"]\n",
        "\n",
        "    plt.subplot(1, 2, 1)\n",
        "    plt.imshow(image_1)\n",
        "    plt.axis(\"off\")\n",
        "    plt.title(\"Image One\")\n",
        "    plt.subplot(1, 2, 2)\n",
        "    plt.imshow(image_1)\n",
        "    plt.axis(\"off\")\n",
        "    plt.title(\"Image Two\")\n",
        "    plt.show()\n",
        "\n",
        "    print(f\"Text one: {text_1}\")\n",
        "    print(f\"Text two: {text_2}\")\n",
        "    print(f\"Label: {label}\")\n",
        "\n",
        "\n",
        "random_idx = np.random.choice(len(df))\n",
        "visualize(random_idx)\n",
        "\n",
        "random_idx = np.random.choice(len(df))\n",
        "visualize(random_idx)"
      ]
    },
    {
      "cell_type": "markdown",
      "metadata": {
        "id": "lEXyvxQeOvbB"
      },
      "source": [
        "## Train/test split\n",
        "\n",
        "The dataset suffers from\n",
        "[class imbalance problem](https://developers.google.com/machine-learning/glossary#class-imbalanced-dataset).\n",
        "We can confirm that in the following cell."
      ]
    },
    {
      "cell_type": "code",
      "execution_count": 8,
      "metadata": {
        "id": "Dajevp0ZOvbB",
        "outputId": "6e557da7-62e6-4021-8e61-29697e8ce118",
        "colab": {
          "base_uri": "https://localhost:8080/"
        }
      },
      "outputs": [
        {
          "output_type": "execute_result",
          "data": {
            "text/plain": [
              "NoEntailment     1182\n",
              "Implies           109\n",
              "Contradictory     109\n",
              "Name: label, dtype: int64"
            ]
          },
          "metadata": {},
          "execution_count": 8
        }
      ],
      "source": [
        "df[\"label\"].value_counts()"
      ]
    },
    {
      "cell_type": "markdown",
      "metadata": {
        "id": "O9T9_QMKOvbC"
      },
      "source": [
        "To account for that we will go for a stratified split."
      ]
    },
    {
      "cell_type": "code",
      "execution_count": 9,
      "metadata": {
        "id": "GeDsX4JoOvbC",
        "outputId": "dea7048b-b096-4d8b-df8d-c62b2a947a01",
        "colab": {
          "base_uri": "https://localhost:8080/"
        }
      },
      "outputs": [
        {
          "output_type": "stream",
          "name": "stdout",
          "text": [
            "Total training examples: 1197\n",
            "Total validation examples: 63\n",
            "Total test examples: 140\n"
          ]
        }
      ],
      "source": [
        "# 10% for test\n",
        "train_df, test_df = train_test_split(\n",
        "    df, test_size=0.1, stratify=df[\"label\"].values, random_state=42\n",
        ")\n",
        "# 5% for validation\n",
        "train_df, val_df = train_test_split(\n",
        "    train_df, test_size=0.05, stratify=train_df[\"label\"].values, random_state=42\n",
        ")\n",
        "\n",
        "print(f\"Total training examples: {len(train_df)}\")\n",
        "print(f\"Total validation examples: {len(val_df)}\")\n",
        "print(f\"Total test examples: {len(test_df)}\")"
      ]
    },
    {
      "cell_type": "markdown",
      "metadata": {
        "id": "kvSiotyxOvbD"
      },
      "source": [
        "## Data input pipeline\n",
        "\n",
        "TensorFlow Hub provides\n",
        "[variety of BERT family of models](https://www.tensorflow.org/text/tutorials/bert_glue#loading_models_from_tensorflow_hub).\n",
        "Each of those models comes with a\n",
        "corresponding preprocessing layer. You can learn more about these models and their\n",
        "preprocessing layers from\n",
        "[this resource](https://www.tensorflow.org/text/tutorials/bert_glue#loading_models_from_tensorflow_hub).\n",
        "\n",
        "To keep the runtime of this example relatively short, we will use a smaller variant of\n",
        "the original BERT model."
      ]
    },
    {
      "cell_type": "code",
      "execution_count": 10,
      "metadata": {
        "id": "B0Be9CIXOvbD"
      },
      "outputs": [],
      "source": [
        "# Define TF Hub paths to the BERT encoder and its preprocessor\n",
        "bert_model_path = (\n",
        "    \"https://tfhub.dev/tensorflow/small_bert/bert_en_uncased_L-2_H-256_A-4/1\"\n",
        ")\n",
        "bert_preprocess_path = \"https://tfhub.dev/tensorflow/bert_en_uncased_preprocess/3\""
      ]
    },
    {
      "cell_type": "markdown",
      "metadata": {
        "id": "SIouqAeIOvbD"
      },
      "source": [
        "Our text preprocessing code mostly comes from\n",
        "[this tutorial](https://www.tensorflow.org/text/tutorials/bert_glue).\n",
        "You are highly encouraged to check out the tutorial to learn more about the input\n",
        "preprocessing."
      ]
    },
    {
      "cell_type": "code",
      "execution_count": 15,
      "metadata": {
        "id": "En17IHH5OvbE"
      },
      "outputs": [],
      "source": [
        "\n",
        "def make_bert_preprocessing_model(sentence_features, seq_length=128):\n",
        "    \"\"\"Returns Model mapping string features to BERT inputs.\n",
        "\n",
        "  Args:\n",
        "    sentence_features: A list with the names of string-valued features.\n",
        "    seq_length: An integer that defines the sequence length of BERT inputs.\n",
        "\n",
        "  Returns:\n",
        "    A Keras Model that can be called on a list or dict of string Tensors\n",
        "    (with the order or names, resp., given by sentence_features) and\n",
        "    returns a dict of tensors for input to BERT.\n",
        "  \"\"\"\n",
        "\n",
        "    input_segments = [\n",
        "        tf.keras.layers.Input(shape=(), dtype=tf.string, name=ft)\n",
        "        for ft in sentence_features\n",
        "    ]\n",
        "\n",
        "    # Tokenize the text to word pieces.\n",
        "    bert_preprocess = hub.load(bert_preprocess_path)\n",
        "    tokenizer = hub.KerasLayer(bert_preprocess.tokenize, name=\"tokenizer\")\n",
        "    segments = [tokenizer(s) for s in input_segments]\n",
        "\n",
        "    # Optional: Trim segments in a smart way to fit seq_length.\n",
        "    # Simple cases (like this example) can skip this step and let\n",
        "    # the next step apply a default truncation to approximately equal lengths.\n",
        "    truncated_segments = segments\n",
        "\n",
        "    # Pack inputs. The details (start/end token ids, dict of output tensors)\n",
        "    # are model-dependent, so this gets loaded from the SavedModel.\n",
        "    packer = hub.KerasLayer(\n",
        "        bert_preprocess.bert_pack_inputs,\n",
        "        arguments=dict(seq_length=seq_length),\n",
        "        name=\"packer\",\n",
        "    )\n",
        "    model_inputs = packer(truncated_segments)\n",
        "    return keras.Model(input_segments, model_inputs)\n",
        "\n",
        "\n",
        "# bert_preprocess_model = make_bert_preprocessing_model([\"text_1\", \"text_2\"])\n",
        "# keras.utils.plot_model(bert_preprocess_model, show_shapes=True, show_dtype=True)"
      ]
    },
    {
      "cell_type": "markdown",
      "metadata": {
        "id": "vmA2YkRtOvbE"
      },
      "source": [
        "### Run the preprocessor on a sample input"
      ]
    },
    {
      "cell_type": "code",
      "execution_count": 16,
      "metadata": {
        "id": "1PbvG0lMOvbF",
        "outputId": "037b49e0-c434-4e60-ebc1-2c090e2f0f19",
        "colab": {
          "base_uri": "https://localhost:8080/"
        }
      },
      "outputs": [
        {
          "output_type": "stream",
          "name": "stdout",
          "text": [
            "Text 1: #OnceBittenTwiceLucky #standalone #romancenovels #indieauthor @AmazonKDP #bestseller #Romance Deepshika’s fragile heart which she had been holding up with many pieces of Sellotape, simply gave in, splitting into many pieces, rendering the tape useless. https://t.co/FXQDdGnyAk https://t.co/aGFb5XUSUY\n",
            "Text 2: #OnceBittenTwiceLucky #standalone #romance #60at60 #indieauthor @AmazonKDP #bestseller #Romance Deepshika’s fragile heart which she had been holding up with many pieces of Sellotape, simply gave in, splitting into many pieces, rendering the tape useless. https://t.co/FXQDdG5XIM https://t.co/DLCjQfSYHl\n",
            "Keys           :  ['input_word_ids', 'input_mask', 'input_type_ids']\n",
            "Shape Word Ids :  (1, 128)\n",
            "Word Ids       :  tf.Tensor(\n",
            "[  101  1001  2320 16313  6528  2102 23425  7630 17413  1001 26609  1001\n",
            "  7472 16693  9050  1001], shape=(16,), dtype=int32)\n",
            "Shape Mask     :  (1, 128)\n",
            "Input Mask     :  tf.Tensor([1 1 1 1 1 1 1 1 1 1 1 1 1 1 1 1], shape=(16,), dtype=int32)\n",
            "Shape Type Ids :  (1, 128)\n",
            "Type Ids       :  tf.Tensor([0 0 0 0 0 0 0 0 0 0 0 0 0 0 0 0], shape=(16,), dtype=int32)\n"
          ]
        }
      ],
      "source": [
        "idx = np.random.choice(len(train_df))\n",
        "row = train_df.iloc[idx]\n",
        "sample_text_1, sample_text_2 = row[\"text_1\"], row[\"text_2\"]\n",
        "print(f\"Text 1: {sample_text_1}\")\n",
        "print(f\"Text 2: {sample_text_2}\")\n",
        "\n",
        "test_text = [np.array([sample_text_1]), np.array([sample_text_2])]\n",
        "text_preprocessed = bert_preprocess_model(test_text)\n",
        "\n",
        "print(\"Keys           : \", list(text_preprocessed.keys()))\n",
        "print(\"Shape Word Ids : \", text_preprocessed[\"input_word_ids\"].shape)\n",
        "print(\"Word Ids       : \", text_preprocessed[\"input_word_ids\"][0, :16])\n",
        "print(\"Shape Mask     : \", text_preprocessed[\"input_mask\"].shape)\n",
        "print(\"Input Mask     : \", text_preprocessed[\"input_mask\"][0, :16])\n",
        "print(\"Shape Type Ids : \", text_preprocessed[\"input_type_ids\"].shape)\n",
        "print(\"Type Ids       : \", text_preprocessed[\"input_type_ids\"][0, :16])\n"
      ]
    },
    {
      "cell_type": "markdown",
      "metadata": {
        "id": "RRwgr2P2OvbF"
      },
      "source": [
        "We will now create `tf.data.Dataset` objects from the dataframes.\n",
        "\n",
        "Note that the text inputs will be preprocessed as a part of the data input pipeline. But\n",
        "the preprocessing modules can also be a part of their corresponding BERT models. This\n",
        "helps reduce the training/serving skew and lets our models operate with raw text inputs.\n",
        "Follow [this tutorial](https://www.tensorflow.org/text/tutorials/classify_text_with_bert)\n",
        "to learn more about how to incorporate the preprocessing modules directly inside the\n",
        "models."
      ]
    },
    {
      "cell_type": "code",
      "execution_count": 17,
      "metadata": {
        "id": "ozZhbhkBOvbF"
      },
      "outputs": [],
      "source": [
        "\n",
        "def dataframe_to_dataset(dataframe):\n",
        "    columns = [\"image_1_path\", \"image_2_path\", \"text_1\", \"text_2\", \"label_idx\"]\n",
        "    dataframe = dataframe[columns].copy()\n",
        "    labels = dataframe.pop(\"label_idx\")\n",
        "    ds = tf.data.Dataset.from_tensor_slices((dict(dataframe), labels))\n",
        "    ds = ds.shuffle(buffer_size=len(dataframe))\n",
        "    return ds\n"
      ]
    },
    {
      "cell_type": "markdown",
      "metadata": {
        "id": "uYwXwQWaOvbG"
      },
      "source": [
        "### Preprocessing utilities"
      ]
    },
    {
      "cell_type": "code",
      "execution_count": 18,
      "metadata": {
        "id": "bW-O7mxQOvbG"
      },
      "outputs": [],
      "source": [
        "resize = (128, 128)\n",
        "bert_input_features = [\"input_word_ids\", \"input_type_ids\", \"input_mask\"]\n",
        "\n",
        "\n",
        "def preprocess_image(image_path):\n",
        "    extension = tf.strings.split(image_path)[-1]\n",
        "\n",
        "    image = tf.io.read_file(image_path)\n",
        "    if extension == b\"jpg\":\n",
        "        image = tf.image.decode_jpeg(image, 3)\n",
        "    else:\n",
        "        image = tf.image.decode_png(image, 3)\n",
        "    image = tf.image.resize(image, resize)\n",
        "    return image\n",
        "\n",
        "\n",
        "def preprocess_text(text_1, text_2):\n",
        "    text_1 = tf.convert_to_tensor([text_1])\n",
        "    text_2 = tf.convert_to_tensor([text_2])\n",
        "    output = bert_preprocess_model([text_1, text_2])\n",
        "    output = {feature: tf.squeeze(output[feature]) for feature in bert_input_features}\n",
        "    return output\n",
        "\n",
        "\n",
        "def preprocess_text_and_image(sample):\n",
        "    image_1 = preprocess_image(sample[\"image_1_path\"])\n",
        "    image_2 = preprocess_image(sample[\"image_2_path\"])\n",
        "    text = preprocess_text(sample[\"text_1\"], sample[\"text_2\"])\n",
        "    return {\"image_1\": image_1, \"image_2\": image_2, \"text\": text}\n"
      ]
    },
    {
      "cell_type": "markdown",
      "metadata": {
        "id": "UUgO2qEGOvbH"
      },
      "source": [
        "### Create the final datasets"
      ]
    },
    {
      "cell_type": "code",
      "execution_count": 19,
      "metadata": {
        "id": "jjtSzBZDOvbI"
      },
      "outputs": [],
      "source": [
        "batch_size = 32\n",
        "auto = tf.data.AUTOTUNE\n",
        "\n",
        "\n",
        "def prepare_dataset(dataframe, training=True):\n",
        "    ds = dataframe_to_dataset(dataframe)\n",
        "    if training:\n",
        "        ds = ds.shuffle(len(train_df))\n",
        "    ds = ds.map(lambda x, y: (preprocess_text_and_image(x), y)).cache()\n",
        "    ds = ds.batch(batch_size).prefetch(auto)\n",
        "    return ds\n",
        "\n",
        "\n",
        "train_ds = prepare_dataset(train_df)\n",
        "validation_ds = prepare_dataset(val_df, False)\n",
        "test_ds = prepare_dataset(test_df, False)\n"
      ]
    },
    {
      "cell_type": "markdown",
      "metadata": {
        "id": "ZWKGniMJOvbI"
      },
      "source": [
        "## Model building utilities\n",
        "\n",
        "Our final model will accept two images along with their text counterparts. While the\n",
        "images will be directly fed to the model the text inputs will first be preprocessed and\n",
        "then will make it into the model. Below is a visual illustration of this approach:\n",
        "\n",
        "![](https://github.com/sayakpaul/Multimodal-Entailment-Baseline/raw/main/figures/brief_architecture.png)\n",
        "\n",
        "The model consists of the following elements:\n",
        "\n",
        "* A standalone encoder for the images. We will use a\n",
        "[ResNet50V2](https://arxiv.org/abs/1603.05027) pre-trained on the ImageNet-1k dataset for\n",
        "this.\n",
        "* A standalone encoder for the images. A pre-trained BERT will be used for this.\n",
        "\n",
        "After extracting the individual embeddings, they will be projected in an identical space.\n",
        "Finally, their projections will be concatenated and be fed to the final classification\n",
        "layer.\n",
        "\n",
        "This is a multi-class classification problem involving the following classes:\n",
        "\n",
        "* NoEntailment\n",
        "* Implies\n",
        "* Contradictory\n",
        "\n",
        "`project_embeddings()`, `create_vision_encoder()`, and `create_text_encoder()` utilities\n",
        "are referred from [this example](https://keras.io/examples/nlp/nl_image_search/)."
      ]
    },
    {
      "cell_type": "markdown",
      "metadata": {
        "id": "FvN6Qb1FOvbJ"
      },
      "source": [
        "Projection utilities"
      ]
    },
    {
      "cell_type": "code",
      "execution_count": 20,
      "metadata": {
        "id": "uioWnYUSOvbJ"
      },
      "outputs": [],
      "source": [
        "\n",
        "def project_embeddings(\n",
        "    embeddings, num_projection_layers, projection_dims, dropout_rate\n",
        "):\n",
        "    projected_embeddings = keras.layers.Dense(units=projection_dims)(embeddings)\n",
        "    for _ in range(num_projection_layers):\n",
        "        x = tf.nn.gelu(projected_embeddings)\n",
        "        x = keras.layers.Dense(projection_dims)(x)\n",
        "        x = keras.layers.Dropout(dropout_rate)(x)\n",
        "        x = keras.layers.Add()([projected_embeddings, x])\n",
        "        projected_embeddings = keras.layers.LayerNormalization()(x)\n",
        "    return projected_embeddings\n"
      ]
    },
    {
      "cell_type": "markdown",
      "metadata": {
        "id": "UEscKH-eOvbK"
      },
      "source": [
        "Vision encoder utilities"
      ]
    },
    {
      "cell_type": "code",
      "execution_count": 21,
      "metadata": {
        "id": "VQi05zdMOvbK"
      },
      "outputs": [],
      "source": [
        "\n",
        "def create_vision_encoder(\n",
        "    num_projection_layers, projection_dims, dropout_rate, trainable=False\n",
        "):\n",
        "    # Load the pre-trained ResNet50V2 model to be used as the base encoder.\n",
        "    resnet_v2 = keras.applications.ResNet50V2(\n",
        "        include_top=False, weights=\"imagenet\", pooling=\"avg\"\n",
        "    )\n",
        "    # Set the trainability of the base encoder.\n",
        "    for layer in resnet_v2.layers:\n",
        "        layer.trainable = trainable\n",
        "\n",
        "    # Receive the images as inputs.\n",
        "    image_1 = keras.Input(shape=(128, 128, 3), name=\"image_1\")\n",
        "    image_2 = keras.Input(shape=(128, 128, 3), name=\"image_2\")\n",
        "\n",
        "    # Preprocess the input image.\n",
        "    preprocessed_1 = keras.applications.resnet_v2.preprocess_input(image_1)\n",
        "    preprocessed_2 = keras.applications.resnet_v2.preprocess_input(image_2)\n",
        "\n",
        "    # Generate the embeddings for the images using the resnet_v2 model\n",
        "    # concatenate them.\n",
        "    embeddings_1 = resnet_v2(preprocessed_1)\n",
        "    embeddings_2 = resnet_v2(preprocessed_2)\n",
        "    embeddings = keras.layers.Concatenate()([embeddings_1, embeddings_2])\n",
        "\n",
        "    # Project the embeddings produced by the model.\n",
        "    outputs = project_embeddings(\n",
        "        embeddings, num_projection_layers, projection_dims, dropout_rate\n",
        "    )\n",
        "    # Create the vision encoder model.\n",
        "    return keras.Model([image_1, image_2], outputs, name=\"vision_encoder\")\n"
      ]
    },
    {
      "cell_type": "markdown",
      "metadata": {
        "id": "zXlF8Zm1OvbL"
      },
      "source": [
        "Text encoder utilities"
      ]
    },
    {
      "cell_type": "code",
      "execution_count": 22,
      "metadata": {
        "id": "1_w18md7OvbL"
      },
      "outputs": [],
      "source": [
        "\n",
        "def create_text_encoder(\n",
        "    num_projection_layers, projection_dims, dropout_rate, trainable=False\n",
        "):\n",
        "    # Load the pre-trained BERT model to be used as the base encoder.\n",
        "    bert = hub.KerasLayer(bert_model_path, name=\"bert\",)\n",
        "    # Set the trainability of the base encoder.\n",
        "    bert.trainable = trainable\n",
        "\n",
        "    # Receive the text as inputs.\n",
        "    bert_input_features = [\"input_type_ids\", \"input_mask\", \"input_word_ids\"]\n",
        "    inputs = {\n",
        "        feature: keras.Input(shape=(128,), dtype=tf.int32, name=feature)\n",
        "        for feature in bert_input_features\n",
        "    }\n",
        "\n",
        "    # Generate embeddings for the preprocessed text using the BERT model.\n",
        "    embeddings = bert(inputs)[\"pooled_output\"]\n",
        "\n",
        "    # Project the embeddings produced by the model.\n",
        "    outputs = project_embeddings(\n",
        "        embeddings, num_projection_layers, projection_dims, dropout_rate\n",
        "    )\n",
        "    # Create the text encoder model.\n",
        "    return keras.Model(inputs, outputs, name=\"text_encoder\")\n"
      ]
    },
    {
      "cell_type": "markdown",
      "metadata": {
        "id": "jR7FP1bLOvbM"
      },
      "source": [
        "Multimodal model utilities"
      ]
    },
    {
      "cell_type": "code",
      "execution_count": 27,
      "metadata": {
        "id": "HzieCCR3OvbM"
      },
      "outputs": [],
      "source": [
        "\n",
        "def create_multimodal_model(\n",
        "    num_projection_layers=1,\n",
        "    projection_dims=256,\n",
        "    dropout_rate=0.1,\n",
        "    vision_trainable=False,\n",
        "    text_trainable=False,\n",
        "):\n",
        "    # Receive the images as inputs.\n",
        "    image_1 = keras.Input(shape=(128, 128, 3), name=\"image_1\")\n",
        "    image_2 = keras.Input(shape=(128, 128, 3), name=\"image_2\")\n",
        "\n",
        "    # Receive the text as inputs.\n",
        "    bert_input_features = [\"input_type_ids\", \"input_mask\", \"input_word_ids\"]\n",
        "    text_inputs = {\n",
        "        feature: keras.Input(shape=(128,), dtype=tf.int32, name=feature)\n",
        "        for feature in bert_input_features\n",
        "    }\n",
        "\n",
        "    # Create the encoders.\n",
        "    vision_encoder = create_vision_encoder(\n",
        "        num_projection_layers, projection_dims, dropout_rate, vision_trainable\n",
        "    )\n",
        "    text_encoder = create_text_encoder(\n",
        "        num_projection_layers, projection_dims, dropout_rate, text_trainable\n",
        "    )\n",
        "\n",
        "    # Fetch the embedding projections.\n",
        "    vision_projections = vision_encoder([image_1, image_2])\n",
        "    text_projections = text_encoder(text_inputs)\n",
        "\n",
        "    # Concatenate the projections and pass through the classification layer.\n",
        "    concatenated = keras.layers.Concatenate()([vision_projections, text_projections])\n",
        "    outputs = keras.layers.Dense(3, activation=\"softmax\")(concatenated)\n",
        "    return keras.Model([image_1, image_2, text_inputs], outputs)\n",
        "\n",
        "\n",
        "# multimodal_model = create_multimodal_model()\n",
        "# keras.utils.plot_model(multimodal_model, show_shapes=True)"
      ]
    },
    {
      "cell_type": "markdown",
      "metadata": {
        "id": "DQNFvsKXOvbN"
      },
      "source": [
        "You can inspect the structure of the individual encoders as well by setting the\n",
        "`expand_nested` argument of `plot_model()` to `True`. You are encouraged\n",
        "to play with the different hyperparameters involved in building this model and\n",
        "observe how the final performance is affected."
      ]
    },
    {
      "cell_type": "markdown",
      "metadata": {
        "id": "36BB8H7dOvbO"
      },
      "source": [
        "## Compile and train the model"
      ]
    },
    {
      "cell_type": "code",
      "execution_count": 28,
      "metadata": {
        "id": "_qgaQVNpOvbO",
        "outputId": "8b60e645-7269-4994-97e9-f49dd53a5495",
        "colab": {
          "base_uri": "https://localhost:8080/"
        }
      },
      "outputs": [
        {
          "output_type": "stream",
          "name": "stdout",
          "text": [
            "Epoch 1/10\n",
            "38/38 [==============================] - 45s 683ms/step - loss: 0.9649 - accuracy: 0.8271 - val_loss: 0.5976 - val_accuracy: 0.8571\n",
            "Epoch 2/10\n",
            "38/38 [==============================] - 3s 88ms/step - loss: 0.4173 - accuracy: 0.8764 - val_loss: 0.5982 - val_accuracy: 0.8571\n",
            "Epoch 3/10\n",
            "38/38 [==============================] - 3s 88ms/step - loss: 0.3525 - accuracy: 0.8830 - val_loss: 0.6351 - val_accuracy: 0.8571\n",
            "Epoch 4/10\n",
            "38/38 [==============================] - 3s 87ms/step - loss: 0.2762 - accuracy: 0.9056 - val_loss: 0.7433 - val_accuracy: 0.8413\n",
            "Epoch 5/10\n",
            "38/38 [==============================] - 3s 87ms/step - loss: 0.1815 - accuracy: 0.9415 - val_loss: 0.9044 - val_accuracy: 0.8413\n",
            "Epoch 6/10\n",
            "38/38 [==============================] - 3s 88ms/step - loss: 0.0964 - accuracy: 0.9699 - val_loss: 1.2654 - val_accuracy: 0.8413\n",
            "Epoch 7/10\n",
            "38/38 [==============================] - 3s 88ms/step - loss: 0.0762 - accuracy: 0.9774 - val_loss: 1.8266 - val_accuracy: 0.8413\n",
            "Epoch 8/10\n",
            "38/38 [==============================] - 3s 88ms/step - loss: 0.1476 - accuracy: 0.9599 - val_loss: 1.5548 - val_accuracy: 0.8413\n",
            "Epoch 9/10\n",
            "38/38 [==============================] - 3s 88ms/step - loss: 0.1971 - accuracy: 0.9382 - val_loss: 1.5445 - val_accuracy: 0.8413\n",
            "Epoch 10/10\n",
            "38/38 [==============================] - 4s 97ms/step - loss: 0.1537 - accuracy: 0.9474 - val_loss: 1.7747 - val_accuracy: 0.8413\n"
          ]
        }
      ],
      "source": [
        "multimodal_model.compile(\n",
        "    optimizer=\"adam\", loss=\"sparse_categorical_crossentropy\", metrics=\"accuracy\"\n",
        ")\n",
        "\n",
        "history = multimodal_model.fit(train_ds, validation_data=validation_ds, epochs=10)"
      ]
    },
    {
      "cell_type": "markdown",
      "metadata": {
        "id": "ZKMwm-WyOvbP"
      },
      "source": [
        "## Evaluate the model"
      ]
    },
    {
      "cell_type": "code",
      "execution_count": 29,
      "metadata": {
        "id": "qlXSuHb3OvbP",
        "outputId": "515ebe04-ede8-4708-e729-bd87ac9df128",
        "colab": {
          "base_uri": "https://localhost:8080/"
        }
      },
      "outputs": [
        {
          "output_type": "stream",
          "name": "stdout",
          "text": [
            "5/5 [==============================] - 5s 865ms/step - loss: 1.3907 - accuracy: 0.8429\n",
            "Accuracy on the test set: 84.29%.\n"
          ]
        }
      ],
      "source": [
        "_, acc = multimodal_model.evaluate(test_ds)\n",
        "print(f\"Accuracy on the test set: {round(acc * 100, 2)}%.\")"
      ]
    },
    {
      "cell_type": "markdown",
      "metadata": {
        "id": "kx8Mhf-ZOvbP"
      },
      "source": [
        "## Additional notes regarding training\n",
        "\n",
        "**Incorporating regularization**:\n",
        "\n",
        "The training logs suggest that the model is starting to overfit and may have benefitted\n",
        "from regularization. Dropout ([Srivastava et al.](https://jmlr.org/papers/v15/srivastava14a.html))\n",
        "is a simple yet powerful regularization technique that we can use in our model.\n",
        "But how should we apply it here?\n",
        "\n",
        "We could always introduce Dropout (`keras.layers.Dropout`) in between different layers of the model.\n",
        "But here is another recipe. Our model expects inputs from two different data modalities.\n",
        "What if either of the modalities is not present during inference? To account for this,\n",
        "we can introduce Dropout to the individual projections just before they get concatenated:\n",
        "\n",
        "```python\n",
        "vision_projections = keras.layers.Dropout(rate)(vision_projections)\n",
        "text_projections = keras.layers.Dropout(rate)(text_projections)\n",
        "concatenated = keras.layers.Concatenate()([vision_projections, text_projections])\n",
        "```\n",
        "\n",
        "**Attending to what matters**:\n",
        "\n",
        "Do all parts of the images correspond equally to their textual counterparts? It's likely\n",
        "not the case. To make our model only focus on the most important bits of the images that relate\n",
        "well to their corresponding textual parts we can use \"cross-attention\":\n",
        "\n",
        "```python\n",
        "# Embeddings.\n",
        "vision_projections = vision_encoder([image_1, image_2])\n",
        "text_projections = text_encoder(text_inputs)\n",
        "\n",
        "# Cross-attention (Luong-style).\n",
        "query_value_attention_seq = keras.layers.Attention(use_scale=True, dropout=0.2)(\n",
        "    [vision_projections, text_projections]\n",
        ")\n",
        "# Concatenate.\n",
        "concatenated = keras.layers.Concatenate()([vision_projections, text_projections])\n",
        "contextual = keras.layers.Concatenate()([concatenated, query_value_attention_seq])\n",
        "```\n",
        "\n",
        "To see this in action, refer to\n",
        "[this notebook](https://github.com/sayakpaul/Multimodal-Entailment-Baseline/blob/main/multimodal_entailment_attn.ipynb).\n",
        "\n",
        "**Handling class imbalance**:\n",
        "\n",
        "The dataset suffers from class imbalance. Investigating the confusion matrix of the\n",
        "above model reveals that it performs poorly on the minority classes. If we had used a\n",
        "weighted loss then the training would have been more guided. You can check out\n",
        "[this notebook](https://github.com/sayakpaul/Multimodal-Entailment-Baseline/blob/main/multimodal_entailment.ipynb)\n",
        "that takes class-imbalance into account during model training.\n",
        "\n",
        "**Using only text inputs**:\n",
        "\n",
        "Also, what if we had only incorporated text inputs for the entailment task? Because of\n",
        "the nature of the text inputs encountered on social media platforms, text inputs alone\n",
        "would have hurt the final performance. Under a similar training setup, by only using\n",
        "text inputs we get to 67.14% top-1 accuracy on the same test set. Refer to\n",
        "[this notebook](https://github.com/sayakpaul/Multimodal-Entailment-Baseline/blob/main/text_entailment.ipynb)\n",
        "for details.\n",
        "\n",
        "Finally, here is a table comparing different approaches taken for the entailment task:\n",
        "\n",
        "| Type  | Standard<br>Cross-entropy     | Loss-weighted<br>Cross-entropy    | Focal Loss    |\n",
        "|:---:  |:---:  |:---:    |:---:    |\n",
        "| Multimodal    | 77.86%    | 67.86%    | 86.43%    |\n",
        "| Only text     | 67.14%    | 11.43%    | 37.86%    |\n",
        "\n",
        "You can check out [this repository](https://git.io/JR0HU) to learn more about how the\n",
        "experiments were conducted to obtain these numbers."
      ]
    },
    {
      "cell_type": "markdown",
      "metadata": {
        "id": "B3hhXJiDOvbQ"
      },
      "source": [
        "## Final remarks\n",
        "\n",
        "* The architecture we used in this example is too large for the number of data points\n",
        "available for training. It's going to benefit from more data.\n",
        "* We used a smaller variant of the original BERT model. Chances are high that with a\n",
        "larger variant, this performance will be improved. TensorFlow Hub\n",
        "[provides](https://www.tensorflow.org/text/tutorials/bert_glue#loading_models_from_tensorflow_hub)\n",
        "a number of different BERT models that you can experiment with.\n",
        "* We kept the pre-trained models frozen. Fine-tuning them on the multimodal entailment\n",
        "task would could resulted in better performance.\n",
        "* We built a simple baseline model for the multimodal entailment task. There are various\n",
        "approaches that have been proposed to tackle the entailment problem.\n",
        "[This presentation deck](https://docs.google.com/presentation/d/1mAB31BCmqzfedreNZYn4hsKPFmgHA9Kxz219DzyRY3c/edit?usp=sharing)\n",
        "from the\n",
        "[Recognizing Multimodal Entailment](https://multimodal-entailment.github.io/)\n",
        "tutorial provides a comprehensive overview.\n",
        "\n",
        "You can use the trained model hosted on [Hugging Face Hub](https://huggingface.co/keras-io/multimodal-entailment) and try the demo on [Hugging Face Spaces](https://huggingface.co/spaces/keras-io/multimodal_entailment)"
      ]
    }
  ],
  "metadata": {
    "accelerator": "GPU",
    "colab": {
      "name": "multimodal_entailment",
      "provenance": [],
      "toc_visible": true
    },
    "kernelspec": {
      "display_name": "Python 3",
      "language": "python",
      "name": "python3"
    },
    "language_info": {
      "codemirror_mode": {
        "name": "ipython",
        "version": 3
      },
      "file_extension": ".py",
      "mimetype": "text/x-python",
      "name": "python",
      "nbconvert_exporter": "python",
      "pygments_lexer": "ipython3",
      "version": "3.7.0"
    }
  },
  "nbformat": 4,
  "nbformat_minor": 0
}