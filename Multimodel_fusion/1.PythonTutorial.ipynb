{
  "nbformat": 4,
  "nbformat_minor": 0,
  "metadata": {
    "colab": {
      "name": "PythonTutorial.ipynb",
      "provenance": [],
      "collapsed_sections": []
    },
    "kernelspec": {
      "name": "python3",
      "display_name": "Python 3"
    },
    "language_info": {
      "name": "python"
    },
    "accelerator": "GPU"
  },
  "cells": [
    {
      "cell_type": "code",
      "source": [
        "!python --version"
      ],
      "metadata": {
        "colab": {
          "base_uri": "https://localhost:8080/"
        },
        "id": "FKsLTjtLRfnB",
        "outputId": "a6659dfd-68cd-45f7-ad5d-e332d58266db"
      },
      "execution_count": null,
      "outputs": [
        {
          "output_type": "stream",
          "name": "stdout",
          "text": [
            "Python 3.7.12\n"
          ]
        }
      ]
    },
    {
      "cell_type": "code",
      "execution_count": null,
      "metadata": {
        "colab": {
          "base_uri": "https://localhost:8080/"
        },
        "id": "TQbYMrVgSwqj",
        "outputId": "a7240898-0428-49dc-ad8e-ad53592f1985"
      },
      "outputs": [
        {
          "output_type": "stream",
          "name": "stdout",
          "text": [
            "<class 'int'>\n"
          ]
        }
      ],
      "source": [
        "x = 3\n",
        "print(type(x))"
      ]
    },
    {
      "cell_type": "code",
      "source": [
        "t = True\n",
        "f = False\n",
        "print(t != f)"
      ],
      "metadata": {
        "colab": {
          "base_uri": "https://localhost:8080/"
        },
        "id": "-N5uwWMlUSIm",
        "outputId": "f9e41854-6330-4650-88dd-95990c92f8b9"
      },
      "execution_count": null,
      "outputs": [
        {
          "output_type": "stream",
          "name": "stdout",
          "text": [
            "True\n"
          ]
        }
      ]
    },
    {
      "cell_type": "markdown",
      "source": [
        "# **String**"
      ],
      "metadata": {
        "id": "3nTu_qVzVFod"
      }
    },
    {
      "cell_type": "code",
      "source": [
        "hello = 'hello'\n",
        "world = \"world\"\n",
        "\n",
        "print(hello)\n",
        "print(world)\n",
        "\n",
        "total_length = len(hello)\n",
        "print(\"Length of Hello = \", total_length)"
      ],
      "metadata": {
        "colab": {
          "base_uri": "https://localhost:8080/"
        },
        "id": "MsAPALnnVJYW",
        "outputId": "26663819-1435-44f9-fd1a-177e478a7729"
      },
      "execution_count": null,
      "outputs": [
        {
          "output_type": "stream",
          "name": "stdout",
          "text": [
            "hello\n",
            "world\n",
            "Length of Hello =  5\n"
          ]
        }
      ]
    },
    {
      "cell_type": "code",
      "source": [
        "h = '%s %s %d %s' % (hello, world, 24, \"days!\")\n",
        "print(h)"
      ],
      "metadata": {
        "colab": {
          "base_uri": "https://localhost:8080/"
        },
        "id": "XIV9C9hLVcQM",
        "outputId": "d8b5c31b-a2ed-4eb6-93bd-0509af17e92a"
      },
      "execution_count": null,
      "outputs": [
        {
          "output_type": "stream",
          "name": "stdout",
          "text": [
            "hello world 24 days!\n"
          ]
        }
      ]
    },
    {
      "cell_type": "markdown",
      "source": [
        "# **String Function**"
      ],
      "metadata": {
        "id": "4oYz1axPWKMD"
      }
    },
    {
      "cell_type": "code",
      "source": [
        "s = \"hello\"\n",
        "cap_s = s.capitalize()\n",
        "print(cap_s)"
      ],
      "metadata": {
        "colab": {
          "base_uri": "https://localhost:8080/"
        },
        "id": "nmqNbhP3WMI6",
        "outputId": "21e1ef88-2f1e-42f3-d347-4cbef03dc13e"
      },
      "execution_count": null,
      "outputs": [
        {
          "output_type": "stream",
          "name": "stdout",
          "text": [
            "Hello\n"
          ]
        }
      ]
    },
    {
      "cell_type": "code",
      "source": [
        "string_with_space = \"   hello  \"\n",
        "remove_space = string_with_space.strip()\n",
        "print(string_with_space)\n",
        "print(remove_space)"
      ],
      "metadata": {
        "colab": {
          "base_uri": "https://localhost:8080/"
        },
        "id": "HjJAKp3PWmAu",
        "outputId": "decb1643-2e2d-49b1-e32c-026877f62bb9"
      },
      "execution_count": null,
      "outputs": [
        {
          "output_type": "stream",
          "name": "stdout",
          "text": [
            "   hello  \n",
            "hello\n"
          ]
        }
      ]
    },
    {
      "cell_type": "markdown",
      "source": [
        "# **Containers**"
      ],
      "metadata": {
        "id": "5TMuVwdLYA5U"
      }
    },
    {
      "cell_type": "code",
      "source": [
        "# List\n",
        "xs = [3, 1, 2]\n",
        "print(xs)"
      ],
      "metadata": {
        "colab": {
          "base_uri": "https://localhost:8080/"
        },
        "id": "BbN8raMgYDbz",
        "outputId": "d6273f64-1fb8-4cce-a378-e9e114e89630"
      },
      "execution_count": null,
      "outputs": [
        {
          "output_type": "stream",
          "name": "stdout",
          "text": [
            "[3, 1, 2]\n"
          ]
        }
      ]
    },
    {
      "cell_type": "code",
      "source": [
        "print(xs[-1])\n",
        "print(xs[2])"
      ],
      "metadata": {
        "colab": {
          "base_uri": "https://localhost:8080/"
        },
        "id": "a7SqgEhkYHcu",
        "outputId": "e02ce811-44b5-40ee-9a84-80336e9920e5"
      },
      "execution_count": null,
      "outputs": [
        {
          "output_type": "stream",
          "name": "stdout",
          "text": [
            "2\n",
            "2\n"
          ]
        }
      ]
    },
    {
      "cell_type": "code",
      "source": [
        "xs[0] = \"Hello\"\n",
        "print(xs)"
      ],
      "metadata": {
        "colab": {
          "base_uri": "https://localhost:8080/"
        },
        "id": "qTDeMSHlYQ9Y",
        "outputId": "98f47349-9344-4fec-942e-4c3e37321631"
      },
      "execution_count": null,
      "outputs": [
        {
          "output_type": "stream",
          "name": "stdout",
          "text": [
            "['Hello', 1, 2]\n"
          ]
        }
      ]
    },
    {
      "cell_type": "code",
      "source": [
        "xs.append(5)\n",
        "print(xs)"
      ],
      "metadata": {
        "colab": {
          "base_uri": "https://localhost:8080/"
        },
        "id": "it_VdVrWYZXw",
        "outputId": "b7d4798c-1cbe-42d0-bf3a-137e98e6339c"
      },
      "execution_count": null,
      "outputs": [
        {
          "output_type": "stream",
          "name": "stdout",
          "text": [
            "['Hello', 1, 2, 5]\n"
          ]
        }
      ]
    },
    {
      "cell_type": "code",
      "source": [
        "n = xs[1:3]\n",
        "print(n)"
      ],
      "metadata": {
        "colab": {
          "base_uri": "https://localhost:8080/"
        },
        "id": "H98w_Z-9Yn5T",
        "outputId": "5a46b1d5-608f-4d52-9d9a-76c1785dc44e"
      },
      "execution_count": null,
      "outputs": [
        {
          "output_type": "stream",
          "name": "stdout",
          "text": [
            "[1, 2]\n"
          ]
        }
      ]
    },
    {
      "cell_type": "code",
      "source": [
        "# Loop in the list\n",
        "animal_label = [\"cat\", \"dog\", \"monkey\"]\n",
        "for animal in animal_label:\n",
        "  print(animal)"
      ],
      "metadata": {
        "colab": {
          "base_uri": "https://localhost:8080/"
        },
        "id": "NEcfIljkZe2c",
        "outputId": "dcada801-ec87-4516-82e0-aa2a1633d37d"
      },
      "execution_count": null,
      "outputs": [
        {
          "output_type": "stream",
          "name": "stdout",
          "text": [
            "cat\n",
            "dog\n",
            "monkey\n"
          ]
        }
      ]
    },
    {
      "cell_type": "code",
      "source": [
        "# Loop in the list by getting index\n",
        "animal_label = [\"cat\", \"dog\", \"monkey\"]\n",
        "for indx, animal in enumerate(animal_label):\n",
        "  print('Index %d: %s' % (indx, animal))"
      ],
      "metadata": {
        "colab": {
          "base_uri": "https://localhost:8080/"
        },
        "id": "bHwdzxZuZwqu",
        "outputId": "6c75656d-c857-48f4-cc89-98ae54f03a51"
      },
      "execution_count": null,
      "outputs": [
        {
          "output_type": "stream",
          "name": "stdout",
          "text": [
            "Index 0: cat\n",
            "Index 1: dog\n",
            "Index 2: monkey\n"
          ]
        }
      ]
    },
    {
      "cell_type": "code",
      "source": [
        "num = [0, 1, 2, 3, 4]\n",
        "squares = []\n",
        "for n in num:\n",
        "  squares.append(n**2)\n",
        "  print(squares)\n",
        "\n",
        "print(\"Final Squares is \", squares)"
      ],
      "metadata": {
        "colab": {
          "base_uri": "https://localhost:8080/"
        },
        "id": "O-T8xC3-afdg",
        "outputId": "81f2b547-349a-4f58-9c0e-b81d78db0426"
      },
      "execution_count": null,
      "outputs": [
        {
          "output_type": "stream",
          "name": "stdout",
          "text": [
            "[0]\n",
            "[0, 1]\n",
            "[0, 1, 4]\n",
            "[0, 1, 4, 9]\n",
            "[0, 1, 4, 9, 16]\n",
            "Final Squares is  [0, 1, 4, 9, 16]\n"
          ]
        }
      ]
    },
    {
      "cell_type": "code",
      "source": [
        "num = [0, 1, 2, 3, 4]\n",
        "squares = [x**2 for x in num]\n",
        "print(squares)"
      ],
      "metadata": {
        "colab": {
          "base_uri": "https://localhost:8080/"
        },
        "id": "TvPss0TAb6ZJ",
        "outputId": "f919581c-6c93-4605-f384-742212c8d578"
      },
      "execution_count": null,
      "outputs": [
        {
          "output_type": "stream",
          "name": "stdout",
          "text": [
            "[0, 1, 4, 9, 16]\n"
          ]
        }
      ]
    },
    {
      "cell_type": "markdown",
      "source": [
        "# **Dictionary**"
      ],
      "metadata": {
        "id": "PHzrtUGUc4Dj"
      }
    },
    {
      "cell_type": "code",
      "source": [
        "d = {'cat': 'cute', 'dog': 'fat'}\n",
        "print(d['cat'])\n",
        "for key in d:\n",
        "  print(d[key])"
      ],
      "metadata": {
        "colab": {
          "base_uri": "https://localhost:8080/"
        },
        "id": "HDywXyDjc593",
        "outputId": "02ed32f0-7a12-4602-d631-e4e3649ddcc5"
      },
      "execution_count": null,
      "outputs": [
        {
          "output_type": "stream",
          "name": "stdout",
          "text": [
            "cute\n",
            "cute\n",
            "fat\n"
          ]
        }
      ]
    },
    {
      "cell_type": "code",
      "source": [
        "for key, value in d.items():\n",
        "  print(key, value)"
      ],
      "metadata": {
        "colab": {
          "base_uri": "https://localhost:8080/"
        },
        "id": "-84mLjyIdz5x",
        "outputId": "fa9d4f26-3312-4b1c-f5e2-fef9a080ca55"
      },
      "execution_count": null,
      "outputs": [
        {
          "output_type": "stream",
          "name": "stdout",
          "text": [
            "cat cute\n",
            "dog fat\n"
          ]
        }
      ]
    },
    {
      "cell_type": "markdown",
      "source": [
        "# **Class**"
      ],
      "metadata": {
        "id": "8BRPBvS9fVcb"
      }
    },
    {
      "cell_type": "code",
      "source": [
        "class book(object):\n",
        "  # Constructor\n",
        "  def __init__(self, bookname):\n",
        "    self.name = bookname\n",
        "\n",
        "  def great(self, good=False):\n",
        "    if good:\n",
        "      print(\"Good Book \", self.name)\n",
        "    else:\n",
        "      print(\"Bad Book \", self.name)\n",
        "\n",
        "b = book('Python')\n",
        "b.great()\n",
        "\n",
        "b.great(good=True)\n"
      ],
      "metadata": {
        "colab": {
          "base_uri": "https://localhost:8080/"
        },
        "id": "TJSMpn-cfXXR",
        "outputId": "62b55c52-0ce2-4719-adb1-a0fbd015bc1a"
      },
      "execution_count": null,
      "outputs": [
        {
          "output_type": "stream",
          "name": "stdout",
          "text": [
            "Bad Book  Python\n",
            "Good Book  Python\n"
          ]
        }
      ]
    }
  ]
}